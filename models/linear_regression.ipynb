{
 "cells": [
  {
   "cell_type": "code",
   "execution_count": 1,
   "id": "a6d2318a-ffdf-443a-a0ee-9cd8235c3a31",
   "metadata": {},
   "outputs": [],
   "source": [
    "import pandas as pd\n",
    "from sklearn.linear_model import LinearRegression\n",
    "import os\n",
    "from sklearn.model_selection import train_test_split\n",
    "from sklearn.metrics import mean_squared_error\n",
    "import statsmodels.api as sm\n",
    "import matplotlib.pyplot as plt\n",
    "%matplotlib inline"
   ]
  },
  {
   "cell_type": "code",
   "execution_count": 2,
   "id": "57d39f51-3d18-4484-9336-18c85f853229",
   "metadata": {},
   "outputs": [],
   "source": [
    "sep = os.sep"
   ]
  },
  {
   "cell_type": "code",
   "execution_count": 3,
   "id": "327f2c0d-b2e2-4b5b-bce1-0aad7671b400",
   "metadata": {},
   "outputs": [],
   "source": [
    "m1_usa = pd.read_parquet('..' + sep + 'data' + sep + \"M1NS\" + sep +\"M1NS.parquet\")\n",
    "m2_usa = pd.read_parquet('..' + sep + 'data' + sep + \"M2NS\" + sep +\"M2NS.parquet\")\n",
    "cpi_usa = pd.read_parquet('..' + sep + 'data' + sep + 'CPIAUCNS' + sep +\"CPIAUCNS.parquet\")\n",
    "pce_usa = pd.read_parquet('..' + sep + 'data' + sep + 'PCEPI' + sep +\"PCEPI.parquet\")"
   ]
  },
  {
   "cell_type": "code",
   "execution_count": 4,
   "id": "97140df4-e72c-423c-aa3a-701ebf7106d8",
   "metadata": {},
   "outputs": [],
   "source": [
    "m2_usa = m2_usa.pct_change(12).shift(34).dropna()\n",
    "m2_usa.rename(columns={'Value': 'M2'}, inplace=True)"
   ]
  },
  {
   "cell_type": "code",
   "execution_count": 5,
   "id": "cdd3a367-5338-4d32-8f37-28e8f8c0778c",
   "metadata": {},
   "outputs": [],
   "source": [
    "cpi_usa = cpi_usa.pct_change(12).dropna()\n",
    "cpi_usa.rename(columns={'Value': 'CPI'}, inplace=True)"
   ]
  },
  {
   "cell_type": "code",
   "execution_count": 6,
   "id": "1460aac1-2626-4ddd-9f17-44bf76602fc1",
   "metadata": {},
   "outputs": [],
   "source": [
    "ready_dataframe = pd.concat([m2_usa, cpi_usa], axis=1)"
   ]
  },
  {
   "cell_type": "code",
   "execution_count": 7,
   "id": "9353f3a2-651c-46a7-bfd1-eacebe73ee18",
   "metadata": {},
   "outputs": [],
   "source": [
    "ready_dataframe.dropna(inplace=True)"
   ]
  },
  {
   "cell_type": "code",
   "execution_count": 8,
   "id": "511a45f3-9926-46ae-9286-022da3b3e887",
   "metadata": {},
   "outputs": [
    {
     "data": {
      "text/html": [
       "<div>\n",
       "<style scoped>\n",
       "    .dataframe tbody tr th:only-of-type {\n",
       "        vertical-align: middle;\n",
       "    }\n",
       "\n",
       "    .dataframe tbody tr th {\n",
       "        vertical-align: top;\n",
       "    }\n",
       "\n",
       "    .dataframe thead th {\n",
       "        text-align: right;\n",
       "    }\n",
       "</style>\n",
       "<table border=\"1\" class=\"dataframe\">\n",
       "  <thead>\n",
       "    <tr style=\"text-align: right;\">\n",
       "      <th></th>\n",
       "      <th>M2</th>\n",
       "      <th>CPI</th>\n",
       "    </tr>\n",
       "  </thead>\n",
       "  <tbody>\n",
       "    <tr>\n",
       "      <th>1962-11-01</th>\n",
       "      <td>0.040373</td>\n",
       "      <td>0.013333</td>\n",
       "    </tr>\n",
       "    <tr>\n",
       "      <th>1962-12-01</th>\n",
       "      <td>0.037539</td>\n",
       "      <td>0.013333</td>\n",
       "    </tr>\n",
       "    <tr>\n",
       "      <th>1963-01-01</th>\n",
       "      <td>0.035776</td>\n",
       "      <td>0.013333</td>\n",
       "    </tr>\n",
       "    <tr>\n",
       "      <th>1963-02-01</th>\n",
       "      <td>0.034804</td>\n",
       "      <td>0.009967</td>\n",
       "    </tr>\n",
       "    <tr>\n",
       "      <th>1963-03-01</th>\n",
       "      <td>0.029979</td>\n",
       "      <td>0.013289</td>\n",
       "    </tr>\n",
       "    <tr>\n",
       "      <th>...</th>\n",
       "      <td>...</td>\n",
       "      <td>...</td>\n",
       "    </tr>\n",
       "    <tr>\n",
       "      <th>2021-02-01</th>\n",
       "      <td>0.037421</td>\n",
       "      <td>0.016762</td>\n",
       "    </tr>\n",
       "    <tr>\n",
       "      <th>2021-03-01</th>\n",
       "      <td>0.038564</td>\n",
       "      <td>0.026198</td>\n",
       "    </tr>\n",
       "    <tr>\n",
       "      <th>2021-04-01</th>\n",
       "      <td>0.041858</td>\n",
       "      <td>0.041597</td>\n",
       "    </tr>\n",
       "    <tr>\n",
       "      <th>2021-05-01</th>\n",
       "      <td>0.039643</td>\n",
       "      <td>0.049927</td>\n",
       "    </tr>\n",
       "    <tr>\n",
       "      <th>2021-06-01</th>\n",
       "      <td>0.038528</td>\n",
       "      <td>0.053915</td>\n",
       "    </tr>\n",
       "  </tbody>\n",
       "</table>\n",
       "<p>704 rows × 2 columns</p>\n",
       "</div>"
      ],
      "text/plain": [
       "                  M2       CPI\n",
       "1962-11-01  0.040373  0.013333\n",
       "1962-12-01  0.037539  0.013333\n",
       "1963-01-01  0.035776  0.013333\n",
       "1963-02-01  0.034804  0.009967\n",
       "1963-03-01  0.029979  0.013289\n",
       "...              ...       ...\n",
       "2021-02-01  0.037421  0.016762\n",
       "2021-03-01  0.038564  0.026198\n",
       "2021-04-01  0.041858  0.041597\n",
       "2021-05-01  0.039643  0.049927\n",
       "2021-06-01  0.038528  0.053915\n",
       "\n",
       "[704 rows x 2 columns]"
      ]
     },
     "execution_count": 8,
     "metadata": {},
     "output_type": "execute_result"
    }
   ],
   "source": [
    "ready_dataframe"
   ]
  },
  {
   "cell_type": "code",
   "execution_count": 9,
   "id": "cd8327d0-db43-4c3a-bfe7-2d120418e408",
   "metadata": {},
   "outputs": [],
   "source": [
    "X = ready_dataframe[['M2']]\n",
    "y = ready_dataframe['CPI']\n",
    "\n",
    "X_train, X_test, y_train, y_test = train_test_split(\n",
    "                                        X.values.reshape(-1,1),\n",
    "                                        y.values.reshape(-1,1),\n",
    "                                        train_size   = 0.8,\n",
    "                                        random_state = 42,\n",
    "                                        shuffle      = True\n",
    "                                    )"
   ]
  },
  {
   "cell_type": "code",
   "execution_count": 10,
   "id": "2863e08e-a945-4fbd-8b64-2cd9c2074dce",
   "metadata": {},
   "outputs": [],
   "source": [
    "lm = LinearRegression()"
   ]
  },
  {
   "cell_type": "code",
   "execution_count": 11,
   "id": "87b97627-0bb1-4b02-b901-4b1261972080",
   "metadata": {},
   "outputs": [
    {
     "data": {
      "text/plain": [
       "LinearRegression()"
      ]
     },
     "execution_count": 11,
     "metadata": {},
     "output_type": "execute_result"
    }
   ],
   "source": [
    "lm.fit(X_train, y_train)"
   ]
  },
  {
   "cell_type": "code",
   "execution_count": 12,
   "id": "69ebb3fb-f1b6-4aea-bfbb-ce4b2de5b89a",
   "metadata": {},
   "outputs": [
    {
     "name": "stdout",
     "output_type": "stream",
     "text": [
      "Intercept: [0.00161471]\n",
      "Coeficiente: [('M2', 0.5103285623727901)]\n",
      "Coeficiente de determinación R^2: 0.2691392571156376\n"
     ]
    }
   ],
   "source": [
    "print(\"Intercept:\", lm.intercept_)\n",
    "print(\"Coeficiente:\", list(zip(X.columns, lm.coef_.flatten(), )))\n",
    "print(\"Coeficiente de determinación R^2:\", lm.score(X, y))"
   ]
  },
  {
   "cell_type": "code",
   "execution_count": 13,
   "id": "1bb6d3d1-3183-4e19-b16c-e3f70ec41e50",
   "metadata": {},
   "outputs": [
    {
     "name": "stdout",
     "output_type": "stream",
     "text": [
      "[[0.04126688]\n",
      " [0.02782868]\n",
      " [0.03793372]]\n",
      "\n",
      "El error (rmse) de test es: 0.025872563978047457\n"
     ]
    }
   ],
   "source": [
    "predicciones = lm.predict(X = X_test)\n",
    "print(predicciones[0:3,])\n",
    "\n",
    "rmse = mean_squared_error(\n",
    "        y_true  = y_test,\n",
    "        y_pred  = predicciones,\n",
    "        squared = False\n",
    "       )\n",
    "print(\"\")\n",
    "print(f\"El error (rmse) de test es: {rmse}\")"
   ]
  },
  {
   "cell_type": "code",
   "execution_count": 14,
   "id": "d5eef2af-747f-48a3-b29c-3c94141e348f",
   "metadata": {},
   "outputs": [
    {
     "name": "stdout",
     "output_type": "stream",
     "text": [
      "                            OLS Regression Results                            \n",
      "==============================================================================\n",
      "Dep. Variable:                      y   R-squared:                       0.263\n",
      "Model:                            OLS   Adj. R-squared:                  0.262\n",
      "Method:                 Least Squares   F-statistic:                     200.6\n",
      "Date:                Mon, 23 Aug 2021   Prob (F-statistic):           3.81e-39\n",
      "Time:                        20:14:36   Log-Likelihood:                 1305.5\n",
      "No. Observations:                 563   AIC:                            -2607.\n",
      "Df Residuals:                     561   BIC:                            -2598.\n",
      "Df Model:                           1                                         \n",
      "Covariance Type:            nonrobust                                         \n",
      "==============================================================================\n",
      "                 coef    std err          t      P>|t|      [0.025      0.975]\n",
      "------------------------------------------------------------------------------\n",
      "const          0.0016      0.003      0.607      0.544      -0.004       0.007\n",
      "x1             0.5103      0.036     14.162      0.000       0.440       0.581\n",
      "==============================================================================\n",
      "Omnibus:                       49.910   Durbin-Watson:                   2.149\n",
      "Prob(Omnibus):                  0.000   Jarque-Bera (JB):               63.142\n",
      "Skew:                           0.721   Prob(JB):                     1.94e-14\n",
      "Kurtosis:                       3.783   Cond. No.                         36.0\n",
      "==============================================================================\n",
      "\n",
      "Notes:\n",
      "[1] Standard Errors assume that the covariance matrix of the errors is correctly specified.\n"
     ]
    }
   ],
   "source": [
    "X_train = sm.add_constant(X_train, prepend=True)\n",
    "modelo = sm.OLS(endog=y_train, exog=X_train,)\n",
    "modelo = modelo.fit()\n",
    "print(modelo.summary())"
   ]
  },
  {
   "cell_type": "code",
   "execution_count": 15,
   "id": "a89379d2-e6eb-47f7-9054-0363827cebdf",
   "metadata": {},
   "outputs": [
    {
     "data": {
      "image/png": "[encoded data removed]",
      "text/plain": [
       "<Figure size 432x276.48 with 1 Axes>"
      ]
     },
     "metadata": {
      "needs_background": "light"
     },
     "output_type": "display_data"
    }
   ],
   "source": [
    "predicciones = modelo.get_prediction(exog = X_train).summary_frame(alpha=0.05)\n",
    "predicciones['x'] = X_train[:, 1]\n",
    "predicciones['y'] = y_train\n",
    "predicciones = predicciones.sort_values('x')\n",
    "\n",
    "# Gráfico del modelo\n",
    "# ==============================================================================\n",
    "fig, ax = plt.subplots(figsize=(6, 3.84))\n",
    "\n",
    "ax.scatter(predicciones['x'], predicciones['y'], marker='o', color = \"gray\")\n",
    "ax.plot(predicciones['x'], predicciones[\"mean\"], linestyle='-', label=\"OLS\")\n",
    "ax.plot(predicciones['x'], predicciones[\"mean_ci_lower\"], linestyle='--', color='red', label=\"95% CI\")\n",
    "ax.plot(predicciones['x'], predicciones[\"mean_ci_upper\"], linestyle='--', color='red')\n",
    "ax.fill_between(predicciones['x'], predicciones[\"mean_ci_lower\"], predicciones[\"mean_ci_upper\"], alpha=0.1)\n",
    "ax.legend();"
   ]
  },
  {
   "cell_type": "code",
   "execution_count": 16,
   "id": "6fb3b90a-c3f9-4334-b938-dcecd0c5e3e8",
   "metadata": {},
   "outputs": [
    {
     "name": "stdout",
     "output_type": "stream",
     "text": [
      "\n",
      "El error (rmse) de test es: 0.02587256397804745\n"
     ]
    }
   ],
   "source": [
    "X_test = sm.add_constant(X_test, prepend=True)\n",
    "predicciones = modelo.predict(exog = X_test)\n",
    "rmse = mean_squared_error(\n",
    "        y_true  = y_test,\n",
    "        y_pred  = predicciones,\n",
    "        squared = False\n",
    "       )\n",
    "print(\"\")\n",
    "print(f\"El error (rmse) de test es: {rmse}\")"
   ]
  },
  {
   "cell_type": "code",
   "execution_count": null,
   "id": "d95b7b8b-5c73-499a-8c97-06a1ffea87ed",
   "metadata": {},
   "outputs": [],
   "source": []
  }
 ],
 "metadata": {
  "kernelspec": {
   "display_name": "Python 3",
   "language": "python",
   "name": "python3"
  },
  "language_info": {
   "codemirror_mode": {
    "name": "ipython",
    "version": 3
   },
   "file_extension": ".py",
   "mimetype": "text/x-python",
   "name": "python",
   "nbconvert_exporter": "python",
   "pygments_lexer": "ipython3",
   "version": "3.8.10"
  }
 },
 "nbformat": 4,
 "nbformat_minor": 5
}
