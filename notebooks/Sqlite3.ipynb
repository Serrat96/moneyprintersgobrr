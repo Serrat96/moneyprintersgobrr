{
 "cells": [
  {
   "cell_type": "code",
   "execution_count": 11,
   "id": "15fba9e9-625b-47ef-84be-1471fdf055c8",
   "metadata": {},
   "outputs": [],
   "source": [
    "# Module Imports\n",
    "import mariadb\n",
    "import sys\n",
    "\n",
    "# Connect to MariaDB Platform\n",
    "try:\n",
    "    conn = mariadb.connect(\n",
    "        user=\"administrador\",\n",
    "        password=\"Xit7WdQ3YniY6YttHzBu\",\n",
    "        host=\"moneyprintersgobrr.c8r7otayptqb.eu-west-3.rds.amazonaws.com\",\n",
    "        port=3306,\n",
    "        database=\"moneyprintersgobrr\"\n",
    "\n",
    "    )\n",
    "except mariadb.Error as e:\n",
    "    print(f\"Error connecting to MariaDB Platform: {e}\")\n",
    "    sys.exit(1)\n",
    "\n",
    "# Get Cursor\n",
    "cur = conn.cursor()"
   ]
  },
  {
   "cell_type": "code",
   "execution_count": 12,
   "id": "5ff550f7-e083-4320-9e60-2f00f9a93c9c",
   "metadata": {},
   "outputs": [],
   "source": [
    "cur.execute('DROP TABLE USA')"
   ]
  },
  {
   "cell_type": "code",
   "execution_count": null,
   "id": "10905f72-be2f-4c6a-aea1-7ed47484e8bb",
   "metadata": {},
   "outputs": [],
   "source": []
  }
 ],
 "metadata": {
  "kernelspec": {
   "display_name": "Python 3",
   "language": "python",
   "name": "python3"
  },
  "language_info": {
   "codemirror_mode": {
    "name": "ipython",
    "version": 3
   },
   "file_extension": ".py",
   "mimetype": "text/x-python",
   "name": "python",
   "nbconvert_exporter": "python",
   "pygments_lexer": "ipython3",
   "version": "3.8.10"
  }
 },
 "nbformat": 4,
 "nbformat_minor": 5
}
