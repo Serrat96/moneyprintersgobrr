{
 "cells": [
  {
   "cell_type": "code",
   "execution_count": 72,
   "id": "07c9911c-1d3f-42a8-93e9-360adbed5b51",
   "metadata": {},
   "outputs": [],
   "source": [
    "import pandas as pd\n",
    "import plotly.express as px"
   ]
  },
  {
   "cell_type": "code",
   "execution_count": 63,
   "id": "4b8331e5-8943-44ea-ab43-b96a2336a0a9",
   "metadata": {},
   "outputs": [],
   "source": [
    "m = pd.read_csv('https://www.bde.es/webbde/es/estadis/infoest/series/be0113.csv', encoding=\"ISO-8859-1\")"
   ]
  },
  {
   "cell_type": "code",
   "execution_count": 64,
   "id": "7e1531c9-7108-4511-b9c5-b978a7931fb7",
   "metadata": {},
   "outputs": [],
   "source": [
    "m1 = m[['NOMBRE DE LA SERIE', 'D_MESM1EELIPBIF']]\n",
    "m1.set_index('NOMBRE DE LA SERIE', inplace=True)"
   ]
  },
  {
   "cell_type": "code",
   "execution_count": 65,
   "id": "0669b1f6-e72d-4123-bfb5-bc3fc8822c96",
   "metadata": {},
   "outputs": [],
   "source": [
    "m1 = m1.iloc[5:-2]"
   ]
  },
  {
   "cell_type": "code",
   "execution_count": 66,
   "id": "7cfe64e4-9e22-4f25-83b8-2a0cd37f9e68",
   "metadata": {},
   "outputs": [],
   "source": [
    "m1.index.name = None"
   ]
  },
  {
   "cell_type": "code",
   "execution_count": 67,
   "id": "539ec242-3eee-4823-8f2c-d06a40aff2df",
   "metadata": {},
   "outputs": [
    {
     "data": {
      "text/html": [
       "<div>\n",
       "<style scoped>\n",
       "    .dataframe tbody tr th:only-of-type {\n",
       "        vertical-align: middle;\n",
       "    }\n",
       "\n",
       "    .dataframe tbody tr th {\n",
       "        vertical-align: top;\n",
       "    }\n",
       "\n",
       "    .dataframe thead th {\n",
       "        text-align: right;\n",
       "    }\n",
       "</style>\n",
       "<table border=\"1\" class=\"dataframe\">\n",
       "  <thead>\n",
       "    <tr style=\"text-align: right;\">\n",
       "      <th></th>\n",
       "      <th>D_MESM1EELIPBIF</th>\n",
       "    </tr>\n",
       "  </thead>\n",
       "  <tbody>\n",
       "    <tr>\n",
       "      <th>9 1997</th>\n",
       "      <td>89450</td>\n",
       "    </tr>\n",
       "    <tr>\n",
       "      <th>10 1997</th>\n",
       "      <td>88382</td>\n",
       "    </tr>\n",
       "    <tr>\n",
       "      <th>11 1997</th>\n",
       "      <td>93197</td>\n",
       "    </tr>\n",
       "    <tr>\n",
       "      <th>12 1997</th>\n",
       "      <td>95346</td>\n",
       "    </tr>\n",
       "    <tr>\n",
       "      <th>1 1998</th>\n",
       "      <td>89496</td>\n",
       "    </tr>\n",
       "    <tr>\n",
       "      <th>...</th>\n",
       "      <td>...</td>\n",
       "    </tr>\n",
       "    <tr>\n",
       "      <th>2 2021</th>\n",
       "      <td>1230359</td>\n",
       "    </tr>\n",
       "    <tr>\n",
       "      <th>3 2021</th>\n",
       "      <td>1241234</td>\n",
       "    </tr>\n",
       "    <tr>\n",
       "      <th>4 2021</th>\n",
       "      <td>1245462</td>\n",
       "    </tr>\n",
       "    <tr>\n",
       "      <th>5 2021</th>\n",
       "      <td>1262044</td>\n",
       "    </tr>\n",
       "    <tr>\n",
       "      <th>6 2021</th>\n",
       "      <td>1299472</td>\n",
       "    </tr>\n",
       "  </tbody>\n",
       "</table>\n",
       "<p>286 rows × 1 columns</p>\n",
       "</div>"
      ],
      "text/plain": [
       "        D_MESM1EELIPBIF\n",
       "9 1997            89450\n",
       "10 1997           88382\n",
       "11 1997           93197\n",
       "12 1997           95346\n",
       "1 1998            89496\n",
       "...                 ...\n",
       "2 2021          1230359\n",
       "3 2021          1241234\n",
       "4 2021          1245462\n",
       "5 2021          1262044\n",
       "6 2021          1299472\n",
       "\n",
       "[286 rows x 1 columns]"
      ]
     },
     "execution_count": 67,
     "metadata": {},
     "output_type": "execute_result"
    }
   ],
   "source": [
    "m1.index = m1.index.str.replace('ENE', '1')\n",
    "m1.index = m1.index.str.replace('FEB', '2')\n",
    "m1.index = m1.index.str.replace('MAR', '3')\n",
    "m1.index = m1.index.str.replace('ABR', '4')\n",
    "m1.index = m1.index.str.replace('MAY', '5')\n",
    "m1.index = m1.index.str.replace('JUN', '6')\n",
    "m1.index = m1.index.str.replace('JUL', '7')\n",
    "m1.index = m1.index.str.replace('AGO', '8')\n",
    "m1.index = m1.index.str.replace('SEP', '9')\n",
    "m1.index = m1.index.str.replace('OCT', '10')\n",
    "m1.index = m1.index.str.replace('NOV', '11')\n",
    "m1.index = m1.index.str.replace('DIC', '12')\n",
    "\n",
    "m1"
   ]
  },
  {
   "cell_type": "code",
   "execution_count": 70,
   "id": "311edd9d-62b3-4fb6-9d5e-db075fbb0a41",
   "metadata": {},
   "outputs": [
    {
     "ename": "AttributeError",
     "evalue": "module 'pandas' has no attribute 'to_date'",
     "output_type": "error",
     "traceback": [
      "\u001b[1;31m---------------------------------------------------------------------------\u001b[0m",
      "\u001b[1;31mAttributeError\u001b[0m                            Traceback (most recent call last)",
      "\u001b[1;32m<ipython-input-70-12243335ce14>\u001b[0m in \u001b[0;36m<module>\u001b[1;34m\u001b[0m\n\u001b[1;32m----> 1\u001b[1;33m \u001b[0mm1\u001b[0m\u001b[1;33m.\u001b[0m\u001b[0mindex\u001b[0m \u001b[1;33m=\u001b[0m \u001b[0mpd\u001b[0m\u001b[1;33m.\u001b[0m\u001b[0mto_date\u001b[0m\u001b[1;33m(\u001b[0m\u001b[0mm1\u001b[0m\u001b[1;33m.\u001b[0m\u001b[0mindex\u001b[0m\u001b[1;33m,\u001b[0m \u001b[0mformat\u001b[0m\u001b[1;33m=\u001b[0m\u001b[1;34m'%m %Y'\u001b[0m\u001b[1;33m)\u001b[0m\u001b[1;33m\u001b[0m\u001b[1;33m\u001b[0m\u001b[0m\n\u001b[0m",
      "\u001b[1;32m~\\Miniconda3\\lib\\site-packages\\pandas\\__init__.py\u001b[0m in \u001b[0;36m__getattr__\u001b[1;34m(name)\u001b[0m\n\u001b[0;32m    242\u001b[0m         \u001b[1;32mreturn\u001b[0m \u001b[0m_SparseArray\u001b[0m\u001b[1;33m\u001b[0m\u001b[1;33m\u001b[0m\u001b[0m\n\u001b[0;32m    243\u001b[0m \u001b[1;33m\u001b[0m\u001b[0m\n\u001b[1;32m--> 244\u001b[1;33m     \u001b[1;32mraise\u001b[0m \u001b[0mAttributeError\u001b[0m\u001b[1;33m(\u001b[0m\u001b[1;34mf\"module 'pandas' has no attribute '{name}'\"\u001b[0m\u001b[1;33m)\u001b[0m\u001b[1;33m\u001b[0m\u001b[1;33m\u001b[0m\u001b[0m\n\u001b[0m\u001b[0;32m    245\u001b[0m \u001b[1;33m\u001b[0m\u001b[0m\n\u001b[0;32m    246\u001b[0m \u001b[1;33m\u001b[0m\u001b[0m\n",
      "\u001b[1;31mAttributeError\u001b[0m: module 'pandas' has no attribute 'to_date'"
     ]
    }
   ],
   "source": [
    "m1.index = pd.to_datetime(m1.index, format='%m %Y')"
   ]
  },
  {
   "cell_type": "code",
   "execution_count": 71,
   "id": "84467884-0432-43de-bc07-79268a2d371e",
   "metadata": {},
   "outputs": [
    {
     "data": {
      "text/html": [
       "<div>\n",
       "<style scoped>\n",
       "    .dataframe tbody tr th:only-of-type {\n",
       "        vertical-align: middle;\n",
       "    }\n",
       "\n",
       "    .dataframe tbody tr th {\n",
       "        vertical-align: top;\n",
       "    }\n",
       "\n",
       "    .dataframe thead th {\n",
       "        text-align: right;\n",
       "    }\n",
       "</style>\n",
       "<table border=\"1\" class=\"dataframe\">\n",
       "  <thead>\n",
       "    <tr style=\"text-align: right;\">\n",
       "      <th></th>\n",
       "      <th>D_MESM1EELIPBIF</th>\n",
       "    </tr>\n",
       "  </thead>\n",
       "  <tbody>\n",
       "    <tr>\n",
       "      <th>1997-09-01</th>\n",
       "      <td>89450</td>\n",
       "    </tr>\n",
       "    <tr>\n",
       "      <th>1997-10-01</th>\n",
       "      <td>88382</td>\n",
       "    </tr>\n",
       "    <tr>\n",
       "      <th>1997-11-01</th>\n",
       "      <td>93197</td>\n",
       "    </tr>\n",
       "    <tr>\n",
       "      <th>1997-12-01</th>\n",
       "      <td>95346</td>\n",
       "    </tr>\n",
       "    <tr>\n",
       "      <th>1998-01-01</th>\n",
       "      <td>89496</td>\n",
       "    </tr>\n",
       "    <tr>\n",
       "      <th>...</th>\n",
       "      <td>...</td>\n",
       "    </tr>\n",
       "    <tr>\n",
       "      <th>2021-02-01</th>\n",
       "      <td>1230359</td>\n",
       "    </tr>\n",
       "    <tr>\n",
       "      <th>2021-03-01</th>\n",
       "      <td>1241234</td>\n",
       "    </tr>\n",
       "    <tr>\n",
       "      <th>2021-04-01</th>\n",
       "      <td>1245462</td>\n",
       "    </tr>\n",
       "    <tr>\n",
       "      <th>2021-05-01</th>\n",
       "      <td>1262044</td>\n",
       "    </tr>\n",
       "    <tr>\n",
       "      <th>2021-06-01</th>\n",
       "      <td>1299472</td>\n",
       "    </tr>\n",
       "  </tbody>\n",
       "</table>\n",
       "<p>286 rows × 1 columns</p>\n",
       "</div>"
      ],
      "text/plain": [
       "           D_MESM1EELIPBIF\n",
       "1997-09-01           89450\n",
       "1997-10-01           88382\n",
       "1997-11-01           93197\n",
       "1997-12-01           95346\n",
       "1998-01-01           89496\n",
       "...                    ...\n",
       "2021-02-01         1230359\n",
       "2021-03-01         1241234\n",
       "2021-04-01         1245462\n",
       "2021-05-01         1262044\n",
       "2021-06-01         1299472\n",
       "\n",
       "[286 rows x 1 columns]"
      ]
     },
     "execution_count": 71,
     "metadata": {},
     "output_type": "execute_result"
    }
   ],
   "source": [
    "m1"
   ]
  },
  {
   "cell_type": "code",
   "execution_count": 82,
   "id": "5d54b9d8-731f-4bad-a738-a6a337ee2c28",
   "metadata": {},
   "outputs": [],
   "source": [
    "ecb_codes = {\n",
    "            'M1': ['https://www.bde.es/webbde/es/estadis/infoest/series/be0113.csv', 'millions', 'D_MESM1EELIPBIF'],\n",
    "            'M2': ['https://www.bde.es/webbde/es/estadis/infoest/series/be0113.csv', 'millions', 'D_MESM2EELIPBIF'],\n",
    "            'M3': ['https://www.bde.es/webbde/es/estadis/infoest/series/be0113.csv', 'millions', 'D_MESM3EELIPBIF']\n",
    "        }"
   ]
  },
  {
   "cell_type": "code",
   "execution_count": 83,
   "id": "5987eb36-2a99-47f8-8d9d-b8044e982aab",
   "metadata": {},
   "outputs": [
    {
     "ename": "NameError",
     "evalue": "name 'value' is not defined",
     "output_type": "error",
     "traceback": [
      "\u001b[1;31m---------------------------------------------------------------------------\u001b[0m",
      "\u001b[1;31mNameError\u001b[0m                                 Traceback (most recent call last)",
      "\u001b[1;32m<ipython-input-83-1f917a50a696>\u001b[0m in \u001b[0;36m<module>\u001b[1;34m\u001b[0m\n\u001b[1;32m----> 1\u001b[1;33m \u001b[0mnew_dataframe\u001b[0m \u001b[1;33m=\u001b[0m \u001b[0mpd\u001b[0m\u001b[1;33m.\u001b[0m\u001b[0mread_csv\u001b[0m\u001b[1;33m(\u001b[0m\u001b[0mecb_codes\u001b[0m\u001b[1;33m(\u001b[0m\u001b[0mvalue\u001b[0m\u001b[1;33m)\u001b[0m\u001b[1;33m[\u001b[0m\u001b[1;36m0\u001b[0m\u001b[1;33m]\u001b[0m\u001b[1;33m,\u001b[0m \u001b[0mencoding\u001b[0m\u001b[1;33m=\u001b[0m\u001b[1;34m\"ISO-8859-1\"\u001b[0m\u001b[1;33m)\u001b[0m\u001b[1;33m\u001b[0m\u001b[1;33m\u001b[0m\u001b[0m\n\u001b[0m",
      "\u001b[1;31mNameError\u001b[0m: name 'value' is not defined"
     ]
    }
   ],
   "source": [
    "new_dataframe = pd.read_csv(ecb_codes(value)[0], encoding=\"ISO-8859-1\")"
   ]
  },
  {
   "cell_type": "code",
   "execution_count": null,
   "id": "b0e82da9-8e5b-49b5-ba8e-f6b35b484602",
   "metadata": {},
   "outputs": [],
   "source": []
  }
 ],
 "metadata": {
  "kernelspec": {
   "display_name": "Python 3",
   "language": "python",
   "name": "python3"
  },
  "language_info": {
   "codemirror_mode": {
    "name": "ipython",
    "version": 3
   },
   "file_extension": ".py",
   "mimetype": "text/x-python",
   "name": "python",
   "nbconvert_exporter": "python",
   "pygments_lexer": "ipython3",
   "version": "3.8.10"
  }
 },
 "nbformat": 4,
 "nbformat_minor": 5
}
