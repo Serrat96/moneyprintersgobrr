{
 "cells": [
  {
   "cell_type": "code",
   "execution_count": 40,
   "id": "b1ea6f99-c8c6-4528-9ac4-35b55a111d4f",
   "metadata": {},
   "outputs": [],
   "source": [
    "import requests     # 2.18.4\n",
    "import pandas as pd # 0.23.0\n",
    "import io"
   ]
  },
  {
   "cell_type": "code",
   "execution_count": 63,
   "id": "ff2613f2-31c6-4953-9db4-102d526dd403",
   "metadata": {},
   "outputs": [],
   "source": [
    "df = Request('ECB').data(\n",
    "    resource_id='EXR',\n",
    "    key='D.CHF.EUR.SP00.A',\n",
    ").write()"
   ]
  },
  {
   "cell_type": "code",
   "execution_count": 42,
   "id": "36df30ec-fdea-4ad8-ba2e-47051ec6dc9e",
   "metadata": {},
   "outputs": [
    {
     "data": {
      "text/plain": [
       "FREQ  CURRENCY  CURRENCY_DENOM  EXR_TYPE  EXR_SUFFIX  TIME_PERIOD\n",
       "D     CHF       EUR             SP00      A           1999-01-04     1.6168\n",
       "                                                      1999-01-05     1.6123\n",
       "                                                      1999-01-06     1.6116\n",
       "                                                      1999-01-07     1.6165\n",
       "                                                      1999-01-08     1.6138\n",
       "                                                                      ...  \n",
       "                                                      2021-08-23     1.0744\n",
       "                                                      2021-08-24     1.0711\n",
       "                                                      2021-08-25     1.0739\n",
       "                                                      2021-08-26     1.0789\n",
       "                                                      2021-08-27     1.0796\n",
       "Name: value, Length: 5862, dtype: float64"
      ]
     },
     "execution_count": 42,
     "metadata": {},
     "output_type": "execute_result"
    }
   ],
   "source": [
    "df"
   ]
  },
  {
   "cell_type": "code",
   "execution_count": 43,
   "id": "2027bef0-1e28-4400-b8a5-454dfd83c651",
   "metadata": {},
   "outputs": [],
   "source": [
    "df.index = df.index.get_level_values('TIME_PERIOD')"
   ]
  },
  {
   "cell_type": "code",
   "execution_count": 44,
   "id": "67fee699-2dda-409c-a078-be2f2ce2bb37",
   "metadata": {},
   "outputs": [],
   "source": [
    "df2 = pd.DataFrame(data=df)"
   ]
  },
  {
   "cell_type": "code",
   "execution_count": 60,
   "id": "45f01e19-33a9-42a0-8f6f-54712244381c",
   "metadata": {},
   "outputs": [
    {
     "data": {
      "text/html": [
       "<div>\n",
       "<style scoped>\n",
       "    .dataframe tbody tr th:only-of-type {\n",
       "        vertical-align: middle;\n",
       "    }\n",
       "\n",
       "    .dataframe tbody tr th {\n",
       "        vertical-align: top;\n",
       "    }\n",
       "\n",
       "    .dataframe thead th {\n",
       "        text-align: right;\n",
       "    }\n",
       "</style>\n",
       "<table border=\"1\" class=\"dataframe\">\n",
       "  <thead>\n",
       "    <tr style=\"text-align: right;\">\n",
       "      <th></th>\n",
       "      <th>value</th>\n",
       "    </tr>\n",
       "    <tr>\n",
       "      <th>TIME_PERIOD</th>\n",
       "      <th></th>\n",
       "    </tr>\n",
       "  </thead>\n",
       "  <tbody>\n",
       "    <tr>\n",
       "      <th>1999-01-04</th>\n",
       "      <td>1.6168</td>\n",
       "    </tr>\n",
       "    <tr>\n",
       "      <th>1999-01-05</th>\n",
       "      <td>1.6123</td>\n",
       "    </tr>\n",
       "    <tr>\n",
       "      <th>1999-01-06</th>\n",
       "      <td>1.6116</td>\n",
       "    </tr>\n",
       "    <tr>\n",
       "      <th>1999-01-07</th>\n",
       "      <td>1.6165</td>\n",
       "    </tr>\n",
       "    <tr>\n",
       "      <th>1999-01-08</th>\n",
       "      <td>1.6138</td>\n",
       "    </tr>\n",
       "    <tr>\n",
       "      <th>...</th>\n",
       "      <td>...</td>\n",
       "    </tr>\n",
       "    <tr>\n",
       "      <th>2021-08-23</th>\n",
       "      <td>1.0744</td>\n",
       "    </tr>\n",
       "    <tr>\n",
       "      <th>2021-08-24</th>\n",
       "      <td>1.0711</td>\n",
       "    </tr>\n",
       "    <tr>\n",
       "      <th>2021-08-25</th>\n",
       "      <td>1.0739</td>\n",
       "    </tr>\n",
       "    <tr>\n",
       "      <th>2021-08-26</th>\n",
       "      <td>1.0789</td>\n",
       "    </tr>\n",
       "    <tr>\n",
       "      <th>2021-08-27</th>\n",
       "      <td>1.0796</td>\n",
       "    </tr>\n",
       "  </tbody>\n",
       "</table>\n",
       "<p>5862 rows × 1 columns</p>\n",
       "</div>"
      ],
      "text/plain": [
       "              value\n",
       "TIME_PERIOD        \n",
       "1999-01-04   1.6168\n",
       "1999-01-05   1.6123\n",
       "1999-01-06   1.6116\n",
       "1999-01-07   1.6165\n",
       "1999-01-08   1.6138\n",
       "...             ...\n",
       "2021-08-23   1.0744\n",
       "2021-08-24   1.0711\n",
       "2021-08-25   1.0739\n",
       "2021-08-26   1.0789\n",
       "2021-08-27   1.0796\n",
       "\n",
       "[5862 rows x 1 columns]"
      ]
     },
     "execution_count": 60,
     "metadata": {},
     "output_type": "execute_result"
    }
   ],
   "source": [
    "df2"
   ]
  },
  {
   "cell_type": "code",
   "execution_count": 47,
   "id": "7d6d1a7a-45b7-4c42-8390-441f49539e8d",
   "metadata": {},
   "outputs": [
    {
     "data": {
      "text/plain": [
       "'string'"
      ]
     },
     "execution_count": 52,
     "metadata": {},
     "output_type": "execute_result"
    }
   ],
   "source": [
    "df.index.inferred_type == \"datetime64\""
   ]
  },
  {
   "cell_type": "code",
   "execution_count": 67,
   "id": "be610958-3757-4fa5-b378-afc652271f6e",
   "metadata": {},
   "outputs": [],
   "source": [
    "key = 'EXR.D.CHF.EUR.SP00.A'"
   ]
  },
  {
   "cell_type": "code",
   "execution_count": 75,
   "id": "d13061e3-5116-402e-a991-75e1a3104f20",
   "metadata": {},
   "outputs": [
    {
     "data": {
      "text/html": [
       "<div>\n",
       "<style scoped>\n",
       "    .dataframe tbody tr th:only-of-type {\n",
       "        vertical-align: middle;\n",
       "    }\n",
       "\n",
       "    .dataframe tbody tr th {\n",
       "        vertical-align: top;\n",
       "    }\n",
       "\n",
       "    .dataframe thead th {\n",
       "        text-align: right;\n",
       "    }\n",
       "</style>\n",
       "<table border=\"1\" class=\"dataframe\">\n",
       "  <thead>\n",
       "    <tr style=\"text-align: right;\">\n",
       "      <th></th>\n",
       "      <th>EXR.D.CHF.EUR.SP00.A</th>\n",
       "    </tr>\n",
       "  </thead>\n",
       "  <tbody>\n",
       "    <tr>\n",
       "      <th>1999-01-04</th>\n",
       "      <td>1.6168</td>\n",
       "    </tr>\n",
       "    <tr>\n",
       "      <th>1999-01-05</th>\n",
       "      <td>1.6123</td>\n",
       "    </tr>\n",
       "    <tr>\n",
       "      <th>1999-01-06</th>\n",
       "      <td>1.6116</td>\n",
       "    </tr>\n",
       "    <tr>\n",
       "      <th>1999-01-07</th>\n",
       "      <td>1.6165</td>\n",
       "    </tr>\n",
       "    <tr>\n",
       "      <th>1999-01-08</th>\n",
       "      <td>1.6138</td>\n",
       "    </tr>\n",
       "    <tr>\n",
       "      <th>...</th>\n",
       "      <td>...</td>\n",
       "    </tr>\n",
       "    <tr>\n",
       "      <th>2021-08-23</th>\n",
       "      <td>1.0744</td>\n",
       "    </tr>\n",
       "    <tr>\n",
       "      <th>2021-08-24</th>\n",
       "      <td>1.0711</td>\n",
       "    </tr>\n",
       "    <tr>\n",
       "      <th>2021-08-25</th>\n",
       "      <td>1.0739</td>\n",
       "    </tr>\n",
       "    <tr>\n",
       "      <th>2021-08-26</th>\n",
       "      <td>1.0789</td>\n",
       "    </tr>\n",
       "    <tr>\n",
       "      <th>2021-08-27</th>\n",
       "      <td>1.0796</td>\n",
       "    </tr>\n",
       "  </tbody>\n",
       "</table>\n",
       "<p>5862 rows × 1 columns</p>\n",
       "</div>"
      ],
      "text/plain": [
       "            EXR.D.CHF.EUR.SP00.A\n",
       "1999-01-04                1.6168\n",
       "1999-01-05                1.6123\n",
       "1999-01-06                1.6116\n",
       "1999-01-07                1.6165\n",
       "1999-01-08                1.6138\n",
       "...                          ...\n",
       "2021-08-23                1.0744\n",
       "2021-08-24                1.0711\n",
       "2021-08-25                1.0739\n",
       "2021-08-26                1.0789\n",
       "2021-08-27                1.0796\n",
       "\n",
       "[5862 rows x 1 columns]"
      ]
     },
     "execution_count": 75,
     "metadata": {},
     "output_type": "execute_result"
    }
   ],
   "source": [
    "splitted_key = key.split('.', 1)\n",
    "series = Request('ECB').data(resource_id=splitted_key[0], key=splitted_key[1]).write()\n",
    "series.index = series.index.get_level_values('TIME_PERIOD')\n",
    "series = pd.DataFrame(data=series)\n",
    "series.index.name = None\n",
    "series.rename(columns={'value': key}, inplace=True)\n",
    "series"
   ]
  },
  {
   "cell_type": "code",
   "execution_count": 94,
   "id": "651aeb6c-3903-442a-ae99-33a1222a1420",
   "metadata": {},
   "outputs": [],
   "source": [
    "ecb_codes = {\n",
    "            'M1': ['BSI.M.U2.N.V.M10.X.1.U2.2300.Z01.E', 'millions']\n",
    "        }"
   ]
  },
  {
   "cell_type": "code",
   "execution_count": 97,
   "id": "3a933bb7-375a-487d-b731-18ea02601831",
   "metadata": {},
   "outputs": [
    {
     "data": {
      "text/plain": [
       "'BSI.M.U2.N.V.M10.X.1.U2.2300.Z01.E'"
      ]
     },
     "execution_count": 97,
     "metadata": {},
     "output_type": "execute_result"
    }
   ],
   "source": [
    "splitted_key = list(ecb_codes.values())[0][0]\n",
    "splitted_key"
   ]
  },
  {
   "cell_type": "code",
   "execution_count": null,
   "id": "9c8988ad-97d5-4bf8-b719-ce686a10e515",
   "metadata": {},
   "outputs": [],
   "source": []
  }
 ],
 "metadata": {
  "kernelspec": {
   "display_name": "Python 3 (ipykernel)",
   "language": "python",
   "name": "python3"
  },
  "language_info": {
   "codemirror_mode": {
    "name": "ipython",
    "version": 3
   },
   "file_extension": ".py",
   "mimetype": "text/x-python",
   "name": "python",
   "nbconvert_exporter": "python",
   "pygments_lexer": "ipython3",
   "version": "3.9.6"
  }
 },
 "nbformat": 4,
 "nbformat_minor": 5
}
