{
 "cells": [
  {
   "cell_type": "code",
   "execution_count": 22,
   "id": "9b3b4add-3187-4d12-8dfe-90a23d38a8ce",
   "metadata": {},
   "outputs": [],
   "source": [
    "import pandas as pd\n",
    "from fredapi import Fred\n",
    "from datetime import datetime"
   ]
  },
  {
   "cell_type": "code",
   "execution_count": 23,
   "id": "9ef16c87-251b-480b-98c8-ce3193b7ff8d",
   "metadata": {},
   "outputs": [],
   "source": [
    "def get_fred_data(api_key, series: str):\n",
    "    fred = Fred(api_key=api_key)\n",
    "    series = fred.get_series(series)\n",
    "    series = pd.DataFrame(series, columns=['Value'])\n",
    "    return series"
   ]
  },
  {
   "cell_type": "code",
   "execution_count": null,
   "id": "7ab302de-84f1-4823-838e-727c12bce0c7",
   "metadata": {},
   "outputs": [],
   "source": []
  },
  {
   "cell_type": "code",
   "execution_count": 24,
   "id": "ebf133af-3b9e-4b95-a83b-8b9175b4a337",
   "metadata": {},
   "outputs": [],
   "source": [
    "cpi_usa = get_fred_data('a7eca89fdf2905baea21d67b942c9ef7', 'CPIAUCNS')"
   ]
  },
  {
   "cell_type": "code",
   "execution_count": 25,
   "id": "1afa3169-eb1e-44c9-ba37-efa736b216f4",
   "metadata": {},
   "outputs": [],
   "source": [
    "def filter_from_date(df, from_date, date_format='%Y-%m-%d'):\n",
    "    mask = (df.index >= datetime.strptime(from_date, date_format))\n",
    "\n",
    "    filtered_df = df.loc[mask]\n",
    "\n",
    "    return filtered_df"
   ]
  },
  {
   "cell_type": "code",
   "execution_count": 26,
   "id": "f853160e-45e7-4faf-b88e-12e2a892a288",
   "metadata": {},
   "outputs": [],
   "source": [
    "cpi_usa = filter_from_date(cpi_usa, '1959-01-01')"
   ]
  },
  {
   "cell_type": "code",
   "execution_count": 27,
   "id": "310e2fbb-b1b3-4923-b223-c65589b3c820",
   "metadata": {},
   "outputs": [],
   "source": [
    "cpi_usa.to_parquet('cpi_usa.parquet')"
   ]
  },
  {
   "cell_type": "code",
   "execution_count": null,
   "id": "1c81aba6-2e63-4ec9-af5d-de9b3883e9bf",
   "metadata": {},
   "outputs": [],
   "source": []
  }
 ],
 "metadata": {
  "kernelspec": {
   "display_name": "Python 3",
   "language": "python",
   "name": "python3"
  },
  "language_info": {
   "codemirror_mode": {
    "name": "ipython",
    "version": 3
   },
   "file_extension": ".py",
   "mimetype": "text/x-python",
   "name": "python",
   "nbconvert_exporter": "python",
   "pygments_lexer": "ipython3",
   "version": "3.8.10"
  }
 },
 "nbformat": 4,
 "nbformat_minor": 5
}
