{
 "cells": [
  {
   "cell_type": "code",
   "execution_count": 3,
   "metadata": {},
   "outputs": [],
   "source": [
    "from plotly.subplots import make_subplots\n",
    "import plotly.graph_objects as go\n",
    "import plotly.express as px\n",
    "import plotly.figure_factory as ff\n",
    "\n",
    "import matplotlib.pyplot as plt\n",
    "import seaborn as sns\n",
    "\n",
    "from plotly.subplots import make_subplots\n",
    "import plotly.graph_objects as go\n",
    "import plotly.express as px\n",
    "\n",
    "import sys, os\n",
    "\n",
    "# Helpers\n",
    "abspath = os.path.abspath\n",
    "dirname = os.path.dirname\n",
    "sep = os.sep\n",
    "\n",
    "####\n",
    "gen_folder = dirname(os.getcwd())\n",
    "sys.path.append(gen_folder)\n",
    "\n",
    "from src.utils import mining_data_tb as md "
   ]
  },
  {
   "cell_type": "code",
   "execution_count": 4,
   "metadata": {},
   "outputs": [],
   "source": [
    "m1_usa = md.read_data(r'../data/M1/m1_usa.parquet')\n",
    "m2_usa = md.read_data(r'../data/M2/m2.parquet')\n",
    "cpi_usa = md.read_data(r'../data/CPI/cpi.parquet')\n",
    "pce_usa = md.read_data(r'../data/PCE/pce_adjusted.parquet')"
   ]
  },
  {
   "cell_type": "code",
   "execution_count": 6,
   "metadata": {},
   "outputs": [],
   "source": [
    "processor = md.processor()"
   ]
  },
  {
   "cell_type": "code",
   "execution_count": 26,
   "metadata": {},
   "outputs": [
    {
     "data": {
      "text/plain": [
       "['#636EFA',\n",
       " '#EF553B',\n",
       " '#00CC96',\n",
       " '#AB63FA',\n",
       " '#FFA15A',\n",
       " '#19D3F3',\n",
       " '#FF6692',\n",
       " '#B6E880',\n",
       " '#FF97FF',\n",
       " '#FECB52']"
      ]
     },
     "execution_count": 26,
     "metadata": {},
     "output_type": "execute_result"
    }
   ],
   "source": []
  },
  {
   "cell_type": "code",
   "execution_count": 40,
   "metadata": {},
   "outputs": [
    {
     "data": {
      "application/vnd.plotly.v1+json": {
       "config": {
        "plotlyServerURL": "https://plot.ly"
       },
       "data": [
        {
         "line": {
          "color": "#636EFA"
         },
         "name": "m1_usa",
         "type": "scatter",
         "x": [
          "1980-01-01T00:00:00",
          "1980-02-01T00:00:00",
          "1980-03-01T00:00:00",
          "1980-04-01T00:00:00",
          "1980-05-01T00:00:00",
          "1980-06-01T00:00:00",
          "1980-07-01T00:00:00",
          "1980-08-01T00:00:00",
          "1980-09-01T00:00:00",
          "1980-10-01T00:00:00",
          "1980-11-01T00:00:00",
          "1980-12-01T00:00:00",
          "1981-01-01T00:00:00",
          "1981-02-01T00:00:00",
          "1981-03-01T00:00:00",
          "1981-04-01T00:00:00",
          "1981-05-01T00:00:00",
          "1981-06-01T00:00:00",
          "1981-07-01T00:00:00",
          "1981-08-01T00:00:00",
          "1981-09-01T00:00:00",
          "1981-10-01T00:00:00",
          "1981-11-01T00:00:00",
          "1981-12-01T00:00:00",
          "1982-01-01T00:00:00",
          "1982-02-01T00:00:00",
          "1982-03-01T00:00:00",
          "1982-04-01T00:00:00",
          "1982-05-01T00:00:00",
          "1982-06-01T00:00:00",
          "1982-07-01T00:00:00",
          "1982-08-01T00:00:00",
          "1982-09-01T00:00:00",
          "1982-10-01T00:00:00",
          "1982-11-01T00:00:00",
          "1982-12-01T00:00:00",
          "1983-01-01T00:00:00",
          "1983-02-01T00:00:00",
          "1983-03-01T00:00:00",
          "1983-04-01T00:00:00",
          "1983-05-01T00:00:00",
          "1983-06-01T00:00:00",
          "1983-07-01T00:00:00",
          "1983-08-01T00:00:00",
          "1983-09-01T00:00:00",
          "1983-10-01T00:00:00",
          "1983-11-01T00:00:00",
          "1983-12-01T00:00:00",
          "1984-01-01T00:00:00",
          "1984-02-01T00:00:00",
          "1984-03-01T00:00:00",
          "1984-04-01T00:00:00",
          "1984-05-01T00:00:00",
          "1984-06-01T00:00:00",
          "1984-07-01T00:00:00",
          "1984-08-01T00:00:00",
          "1984-09-01T00:00:00",
          "1984-10-01T00:00:00",
          "1984-11-01T00:00:00",
          "1984-12-01T00:00:00",
          "1985-01-01T00:00:00",
          "1985-02-01T00:00:00",
          "1985-03-01T00:00:00",
          "1985-04-01T00:00:00",
          "1985-05-01T00:00:00",
          "1985-06-01T00:00:00",
          "1985-07-01T00:00:00",
          "1985-08-01T00:00:00",
          "1985-09-01T00:00:00",
          "1985-10-01T00:00:00",
          "1985-11-01T00:00:00",
          "1985-12-01T00:00:00",
          "1986-01-01T00:00:00",
          "1986-02-01T00:00:00",
          "1986-03-01T00:00:00",
          "1986-04-01T00:00:00",
          "1986-05-01T00:00:00",
          "1986-06-01T00:00:00",
          "1986-07-01T00:00:00",
          "1986-08-01T00:00:00",
          "1986-09-01T00:00:00",
          "1986-10-01T00:00:00",
          "1986-11-01T00:00:00",
          "1986-12-01T00:00:00",
          "1987-01-01T00:00:00",
          "1987-02-01T00:00:00",
          "1987-03-01T00:00:00",
          "1987-04-01T00:00:00",
          "1987-05-01T00:00:00",
          "1987-06-01T00:00:00",
          "1987-07-01T00:00:00",
          "1987-08-01T00:00:00",
          "1987-09-01T00:00:00",
          "1987-10-01T00:00:00",
          "1987-11-01T00:00:00",
          "1987-12-01T00:00:00",
          "1988-01-01T00:00:00",
          "1988-02-01T00:00:00",
          "1988-03-01T00:00:00",
          "1988-04-01T00:00:00",
          "1988-05-01T00:00:00",
          "1988-06-01T00:00:00",
          "1988-07-01T00:00:00",
          "1988-08-01T00:00:00",
          "1988-09-01T00:00:00",
          "1988-10-01T00:00:00",
          "1988-11-01T00:00:00",
          "1988-12-01T00:00:00",
          "1989-01-01T00:00:00",
          "1989-02-01T00:00:00",
          "1989-03-01T00:00:00",
          "1989-04-01T00:00:00",
          "1989-05-01T00:00:00",
          "1989-06-01T00:00:00",
          "1989-07-01T00:00:00",
          "1989-08-01T00:00:00",
          "1989-09-01T00:00:00",
          "1989-10-01T00:00:00",
          "1989-11-01T00:00:00",
          "1989-12-01T00:00:00",
          "1990-01-01T00:00:00"
         ],
         "xaxis": "x",
         "y": [
          390.4,
          380.8,
          382.2,
          386.7,
          377.8,
          387.3,
          394.6,
          398.3,
          404.7,
          410.7,
          415.8,
          419.5,
          416.4,
          405.5,
          412.2,
          431,
          418.5,
          422.8,
          427.7,
          425.9,
          427,
          429.7,
          435.1,
          447,
          448.4,
          432.4,
          435.6,
          451.1,
          440.9,
          446.2,
          449.5,
          449.8,
          456.2,
          465.7,
          474.4,
          485.8,
          482.8,
          474.2,
          482.7,
          498.6,
          493.9,
          503.5,
          510.5,
          508.2,
          511.4,
          517.2,
          521.8,
          533.3,
          530.2,
          516.9,
          523.2,
          539.9,
          530.7,
          541.4,
          543.3,
          539,
          542.5,
          542.2,
          549.8,
          564.6,
          561.1,
          551.9,
          558.4,
          575.1,
          569.3,
          585.2,
          592,
          594.9,
          602,
          605.3,
          614.9,
          633.3,
          626.6,
          612.8,
          624.3,
          647,
          645.7,
          662.8,
          673.4,
          678.4,
          684.5,
          692.2,
          708.8,
          739.8,
          737.1,
          717.1,
          723.1,
          752,
          739.3,
          743.8,
          746.2,
          744.2,
          744.5,
          753.2,
          755.5,
          765.4,
          764.2,
          744.5,
          751.6,
          777.9,
          763.4,
          778.5,
          785.5,
          781,
          779.7,
          780.8,
          786.9,
          803.1,
          792.1,
          771.6,
          774.6,
          790.2,
          766.1,
          772.8,
          780.7,
          776.5,
          777.7,
          783.2,
          790.2,
          810.6,
          800.7
         ],
         "yaxis": "y"
        }
       ],
       "layout": {
        "autosize": true,
        "template": {
         "data": {
          "bar": [
           {
            "error_x": {
             "color": "#2a3f5f"
            },
            "error_y": {
             "color": "#2a3f5f"
            },
            "marker": {
             "line": {
              "color": "#E5ECF6",
              "width": 0.5
             }
            },
            "type": "bar"
           }
          ],
          "barpolar": [
           {
            "marker": {
             "line": {
              "color": "#E5ECF6",
              "width": 0.5
             }
            },
            "type": "barpolar"
           }
          ],
          "carpet": [
           {
            "aaxis": {
             "endlinecolor": "#2a3f5f",
             "gridcolor": "white",
             "linecolor": "white",
             "minorgridcolor": "white",
             "startlinecolor": "#2a3f5f"
            },
            "baxis": {
             "endlinecolor": "#2a3f5f",
             "gridcolor": "white",
             "linecolor": "white",
             "minorgridcolor": "white",
             "startlinecolor": "#2a3f5f"
            },
            "type": "carpet"
           }
          ],
          "choropleth": [
           {
            "colorbar": {
             "outlinewidth": 0,
             "ticks": ""
            },
            "type": "choropleth"
           }
          ],
          "contour": [
           {
            "colorbar": {
             "outlinewidth": 0,
             "ticks": ""
            },
            "colorscale": [
             [
              0,
              "#0d0887"
             ],
             [
              0.1111111111111111,
              "#46039f"
             ],
             [
              0.2222222222222222,
              "#7201a8"
             ],
             [
              0.3333333333333333,
              "#9c179e"
             ],
             [
              0.4444444444444444,
              "#bd3786"
             ],
             [
              0.5555555555555556,
              "#d8576b"
             ],
             [
              0.6666666666666666,
              "#ed7953"
             ],
             [
              0.7777777777777778,
              "#fb9f3a"
             ],
             [
              0.8888888888888888,
              "#fdca26"
             ],
             [
              1,
              "#f0f921"
             ]
            ],
            "type": "contour"
           }
          ],
          "contourcarpet": [
           {
            "colorbar": {
             "outlinewidth": 0,
             "ticks": ""
            },
            "type": "contourcarpet"
           }
          ],
          "heatmap": [
           {
            "colorbar": {
             "outlinewidth": 0,
             "ticks": ""
            },
            "colorscale": [
             [
              0,
              "#0d0887"
             ],
             [
              0.1111111111111111,
              "#46039f"
             ],
             [
              0.2222222222222222,
              "#7201a8"
             ],
             [
              0.3333333333333333,
              "#9c179e"
             ],
             [
              0.4444444444444444,
              "#bd3786"
             ],
             [
              0.5555555555555556,
              "#d8576b"
             ],
             [
              0.6666666666666666,
              "#ed7953"
             ],
             [
              0.7777777777777778,
              "#fb9f3a"
             ],
             [
              0.8888888888888888,
              "#fdca26"
             ],
             [
              1,
              "#f0f921"
             ]
            ],
            "type": "heatmap"
           }
          ],
          "heatmapgl": [
           {
            "colorbar": {
             "outlinewidth": 0,
             "ticks": ""
            },
            "colorscale": [
             [
              0,
              "#0d0887"
             ],
             [
              0.1111111111111111,
              "#46039f"
             ],
             [
              0.2222222222222222,
              "#7201a8"
             ],
             [
              0.3333333333333333,
              "#9c179e"
             ],
             [
              0.4444444444444444,
              "#bd3786"
             ],
             [
              0.5555555555555556,
              "#d8576b"
             ],
             [
              0.6666666666666666,
              "#ed7953"
             ],
             [
              0.7777777777777778,
              "#fb9f3a"
             ],
             [
              0.8888888888888888,
              "#fdca26"
             ],
             [
              1,
              "#f0f921"
             ]
            ],
            "type": "heatmapgl"
           }
          ],
          "histogram": [
           {
            "marker": {
             "colorbar": {
              "outlinewidth": 0,
              "ticks": ""
             }
            },
            "type": "histogram"
           }
          ],
          "histogram2d": [
           {
            "colorbar": {
             "outlinewidth": 0,
             "ticks": ""
            },
            "colorscale": [
             [
              0,
              "#0d0887"
             ],
             [
              0.1111111111111111,
              "#46039f"
             ],
             [
              0.2222222222222222,
              "#7201a8"
             ],
             [
              0.3333333333333333,
              "#9c179e"
             ],
             [
              0.4444444444444444,
              "#bd3786"
             ],
             [
              0.5555555555555556,
              "#d8576b"
             ],
             [
              0.6666666666666666,
              "#ed7953"
             ],
             [
              0.7777777777777778,
              "#fb9f3a"
             ],
             [
              0.8888888888888888,
              "#fdca26"
             ],
             [
              1,
              "#f0f921"
             ]
            ],
            "type": "histogram2d"
           }
          ],
          "histogram2dcontour": [
           {
            "colorbar": {
             "outlinewidth": 0,
             "ticks": ""
            },
            "colorscale": [
             [
              0,
              "#0d0887"
             ],
             [
              0.1111111111111111,
              "#46039f"
             ],
             [
              0.2222222222222222,
              "#7201a8"
             ],
             [
              0.3333333333333333,
              "#9c179e"
             ],
             [
              0.4444444444444444,
              "#bd3786"
             ],
             [
              0.5555555555555556,
              "#d8576b"
             ],
             [
              0.6666666666666666,
              "#ed7953"
             ],
             [
              0.7777777777777778,
              "#fb9f3a"
             ],
             [
              0.8888888888888888,
              "#fdca26"
             ],
             [
              1,
              "#f0f921"
             ]
            ],
            "type": "histogram2dcontour"
           }
          ],
          "mesh3d": [
           {
            "colorbar": {
             "outlinewidth": 0,
             "ticks": ""
            },
            "type": "mesh3d"
           }
          ],
          "parcoords": [
           {
            "line": {
             "colorbar": {
              "outlinewidth": 0,
              "ticks": ""
             }
            },
            "type": "parcoords"
           }
          ],
          "pie": [
           {
            "automargin": true,
            "type": "pie"
           }
          ],
          "scatter": [
           {
            "marker": {
             "colorbar": {
              "outlinewidth": 0,
              "ticks": ""
             }
            },
            "type": "scatter"
           }
          ],
          "scatter3d": [
           {
            "line": {
             "colorbar": {
              "outlinewidth": 0,
              "ticks": ""
             }
            },
            "marker": {
             "colorbar": {
              "outlinewidth": 0,
              "ticks": ""
             }
            },
            "type": "scatter3d"
           }
          ],
          "scattercarpet": [
           {
            "marker": {
             "colorbar": {
              "outlinewidth": 0,
              "ticks": ""
             }
            },
            "type": "scattercarpet"
           }
          ],
          "scattergeo": [
           {
            "marker": {
             "colorbar": {
              "outlinewidth": 0,
              "ticks": ""
             }
            },
            "type": "scattergeo"
           }
          ],
          "scattergl": [
           {
            "marker": {
             "colorbar": {
              "outlinewidth": 0,
              "ticks": ""
             }
            },
            "type": "scattergl"
           }
          ],
          "scattermapbox": [
           {
            "marker": {
             "colorbar": {
              "outlinewidth": 0,
              "ticks": ""
             }
            },
            "type": "scattermapbox"
           }
          ],
          "scatterpolar": [
           {
            "marker": {
             "colorbar": {
              "outlinewidth": 0,
              "ticks": ""
             }
            },
            "type": "scatterpolar"
           }
          ],
          "scatterpolargl": [
           {
            "marker": {
             "colorbar": {
              "outlinewidth": 0,
              "ticks": ""
             }
            },
            "type": "scatterpolargl"
           }
          ],
          "scatterternary": [
           {
            "marker": {
             "colorbar": {
              "outlinewidth": 0,
              "ticks": ""
             }
            },
            "type": "scatterternary"
           }
          ],
          "surface": [
           {
            "colorbar": {
             "outlinewidth": 0,
             "ticks": ""
            },
            "colorscale": [
             [
              0,
              "#0d0887"
             ],
             [
              0.1111111111111111,
              "#46039f"
             ],
             [
              0.2222222222222222,
              "#7201a8"
             ],
             [
              0.3333333333333333,
              "#9c179e"
             ],
             [
              0.4444444444444444,
              "#bd3786"
             ],
             [
              0.5555555555555556,
              "#d8576b"
             ],
             [
              0.6666666666666666,
              "#ed7953"
             ],
             [
              0.7777777777777778,
              "#fb9f3a"
             ],
             [
              0.8888888888888888,
              "#fdca26"
             ],
             [
              1,
              "#f0f921"
             ]
            ],
            "type": "surface"
           }
          ],
          "table": [
           {
            "cells": {
             "fill": {
              "color": "#EBF0F8"
             },
             "line": {
              "color": "white"
             }
            },
            "header": {
             "fill": {
              "color": "#C8D4E3"
             },
             "line": {
              "color": "white"
             }
            },
            "type": "table"
           }
          ]
         },
         "layout": {
          "annotationdefaults": {
           "arrowcolor": "#2a3f5f",
           "arrowhead": 0,
           "arrowwidth": 1
          },
          "autotypenumbers": "strict",
          "coloraxis": {
           "colorbar": {
            "outlinewidth": 0,
            "ticks": ""
           }
          },
          "colorscale": {
           "diverging": [
            [
             0,
             "#8e0152"
            ],
            [
             0.1,
             "#c51b7d"
            ],
            [
             0.2,
             "#de77ae"
            ],
            [
             0.3,
             "#f1b6da"
            ],
            [
             0.4,
             "#fde0ef"
            ],
            [
             0.5,
             "#f7f7f7"
            ],
            [
             0.6,
             "#e6f5d0"
            ],
            [
             0.7,
             "#b8e186"
            ],
            [
             0.8,
             "#7fbc41"
            ],
            [
             0.9,
             "#4d9221"
            ],
            [
             1,
             "#276419"
            ]
           ],
           "sequential": [
            [
             0,
             "#0d0887"
            ],
            [
             0.1111111111111111,
             "#46039f"
            ],
            [
             0.2222222222222222,
             "#7201a8"
            ],
            [
             0.3333333333333333,
             "#9c179e"
            ],
            [
             0.4444444444444444,
             "#bd3786"
            ],
            [
             0.5555555555555556,
             "#d8576b"
            ],
            [
             0.6666666666666666,
             "#ed7953"
            ],
            [
             0.7777777777777778,
             "#fb9f3a"
            ],
            [
             0.8888888888888888,
             "#fdca26"
            ],
            [
             1,
             "#f0f921"
            ]
           ],
           "sequentialminus": [
            [
             0,
             "#0d0887"
            ],
            [
             0.1111111111111111,
             "#46039f"
            ],
            [
             0.2222222222222222,
             "#7201a8"
            ],
            [
             0.3333333333333333,
             "#9c179e"
            ],
            [
             0.4444444444444444,
             "#bd3786"
            ],
            [
             0.5555555555555556,
             "#d8576b"
            ],
            [
             0.6666666666666666,
             "#ed7953"
            ],
            [
             0.7777777777777778,
             "#fb9f3a"
            ],
            [
             0.8888888888888888,
             "#fdca26"
            ],
            [
             1,
             "#f0f921"
            ]
           ]
          },
          "colorway": [
           "#636efa",
           "#EF553B",
           "#00cc96",
           "#ab63fa",
           "#FFA15A",
           "#19d3f3",
           "#FF6692",
           "#B6E880",
           "#FF97FF",
           "#FECB52"
          ],
          "font": {
           "color": "#2a3f5f"
          },
          "geo": {
           "bgcolor": "white",
           "lakecolor": "white",
           "landcolor": "#E5ECF6",
           "showlakes": true,
           "showland": true,
           "subunitcolor": "white"
          },
          "hoverlabel": {
           "align": "left"
          },
          "hovermode": "closest",
          "mapbox": {
           "style": "light"
          },
          "paper_bgcolor": "white",
          "plot_bgcolor": "#E5ECF6",
          "polar": {
           "angularaxis": {
            "gridcolor": "white",
            "linecolor": "white",
            "ticks": ""
           },
           "bgcolor": "#E5ECF6",
           "radialaxis": {
            "gridcolor": "white",
            "linecolor": "white",
            "ticks": ""
           }
          },
          "scene": {
           "xaxis": {
            "backgroundcolor": "#E5ECF6",
            "gridcolor": "white",
            "gridwidth": 2,
            "linecolor": "white",
            "showbackground": true,
            "ticks": "",
            "zerolinecolor": "white"
           },
           "yaxis": {
            "backgroundcolor": "#E5ECF6",
            "gridcolor": "white",
            "gridwidth": 2,
            "linecolor": "white",
            "showbackground": true,
            "ticks": "",
            "zerolinecolor": "white"
           },
           "zaxis": {
            "backgroundcolor": "#E5ECF6",
            "gridcolor": "white",
            "gridwidth": 2,
            "linecolor": "white",
            "showbackground": true,
            "ticks": "",
            "zerolinecolor": "white"
           }
          },
          "shapedefaults": {
           "line": {
            "color": "#2a3f5f"
           }
          },
          "ternary": {
           "aaxis": {
            "gridcolor": "white",
            "linecolor": "white",
            "ticks": ""
           },
           "baxis": {
            "gridcolor": "white",
            "linecolor": "white",
            "ticks": ""
           },
           "bgcolor": "#E5ECF6",
           "caxis": {
            "gridcolor": "white",
            "linecolor": "white",
            "ticks": ""
           }
          },
          "title": {
           "x": 0.05
          },
          "xaxis": {
           "automargin": true,
           "gridcolor": "white",
           "linecolor": "white",
           "ticks": "",
           "title": {
            "standoff": 15
           },
           "zerolinecolor": "white",
           "zerolinewidth": 2
          },
          "yaxis": {
           "automargin": true,
           "gridcolor": "white",
           "linecolor": "white",
           "ticks": "",
           "title": {
            "standoff": 15
           },
           "zerolinecolor": "white",
           "zerolinewidth": 2
          }
         }
        },
        "title": {
         "font": {
          "size": 30
         },
         "text": ""
        },
        "xaxis": {
         "anchor": "y",
         "autorange": true,
         "domain": [
          0,
          1
         ],
         "range": [
          "1980-01-01",
          "1990-01-01"
         ],
         "rangeslider": {
          "thickness": 0.1,
          "visible": false,
          "yaxis": {}
         },
         "showgrid": false,
         "type": "date"
        },
        "yaxis": {
         "anchor": "x",
         "autorange": true,
         "domain": [
          0,
          1
         ],
         "range": [
          353.7555555555556,
          834.6444444444445
         ],
         "showgrid": false,
         "tickformat": "",
         "title": {
          "text": "billions"
         },
         "type": "linear",
         "zeroline": false
        }
       }
      },
      "image/png": "[encoded data removed]"
     },
     "metadata": {},
     "output_type": "display_data"
    }
   ],
   "source": [
    "dict_ = {\n",
    "    \"dfs\" : [m1_usa],\n",
    "    \"legends\" : [\"m1_usa\"],\n",
    "    \"secondary_ys\" : [False],\n",
    "    \"names\" : [\"billions\"]\n",
    "}\n",
    "\n",
    "\n",
    "line_plotter(dict_, start_date = \"1980-01-01\", end_date = \"1990-01-01\", title = \"\", tickformat = \"\")"
   ]
  },
  {
   "cell_type": "code",
   "execution_count": 37,
   "metadata": {},
   "outputs": [],
   "source": [
    "\n",
    "def line_plotter(dict_, start_date, end_date, title, tickformat, palette = False):\n",
    "    dfs, legends, secondary_ys, names = dict_[\"dfs\"], dict_[\"legends\"], dict_[\"secondary_ys\"], dict_[\"names\"]\n",
    "    # General settings\n",
    "    start_date_str = str(start_date)\n",
    "    end_date_str = str(end_date)\n",
    "    palette_ = px.colors.qualitative.Plotly\n",
    "    if palette:\n",
    "        palette_ = palette\n",
    "\n",
    "    fig = make_subplots()\n",
    "    \n",
    "    if any(secondary_ys):\n",
    "        fig = make_subplots(specs = [[{\"secondary_y\" : True}]])\n",
    "\n",
    "    # Iterate over\n",
    "    for ind, df in enumerate(dfs):\n",
    "        filtered_df = processor.filter_between_dates(df, start_date_str, end_date_str)\n",
    "        fig.add_trace(go.Scatter(x = filtered_df.index, y = filtered_df[\"Value\"], name = legends[ind], line = dict(color = palette_[ind])), secondary_y = secondary_ys[ind])\n",
    "    \n",
    "    # Layout\n",
    "    fig.update_layout(title = title, xaxis_rangeslider_visible = False, title_font_size = 30)\n",
    "\n",
    "    # Axes\n",
    "    fig.update_xaxes(rangeslider_thickness = 0.1, showgrid = False)\n",
    "    fig.update_yaxes(title_text = names[0], tickformat = tickformat, secondary_y = False, showgrid = False, zeroline = False)\n",
    "    if len(names) > 1:\n",
    "        fig.update_yaxes(title_text = names[1], tickformat = tickformat, secondary_y = True, showgrid = False, zeroline = False)\n",
    "\n",
    "    return fig"
   ]
  },
  {
   "cell_type": "code",
   "execution_count": null,
   "metadata": {},
   "outputs": [],
   "source": []
  }
 ],
 "metadata": {
  "interpreter": {
   "hash": "aee8b7b246df8f9039afb4144a1f6fd8d2ca17a180786b69acc140d282b71a49"
  },
  "kernelspec": {
   "display_name": "Python 3",
   "language": "python",
   "name": "python3"
  },
  "language_info": {
   "codemirror_mode": {
    "name": "ipython",
    "version": 3
   },
   "file_extension": ".py",
   "mimetype": "text/x-python",
   "name": "python",
   "nbconvert_exporter": "python",
   "pygments_lexer": "ipython3",
   "version": "3.8.10"
  }
 },
 "nbformat": 4,
 "nbformat_minor": 4
}
