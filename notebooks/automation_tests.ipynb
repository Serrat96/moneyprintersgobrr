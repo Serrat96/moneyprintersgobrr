{
 "cells": [
  {
   "cell_type": "code",
   "execution_count": 1,
   "source": [
    "import streamlit as st\n",
    "from datetime import timedelta\n",
    "import sqlite3\n",
    "import pandas as pd\n",
    "\n",
    "import sys, os\n",
    "\n",
    "# Helpers\n",
    "abspath = os.path.abspath\n",
    "dirname = os.path.dirname\n",
    "sep = os.sep\n",
    "\n",
    "# Path modification\n",
    "current_folder = dirname(os.getcwd())\n",
    "for i in range(0): current_folder = dirname(abspath(current_folder))\n",
    "sys.path.append(current_folder)\n",
    "sys.path.append(current_folder + sep + \"src\")\n",
    "\n",
    "# Self-made packages\n",
    "import src.utils.constants_tb as ct\n",
    "import src.utils.dashboard_tb as da\n",
    "import src.utils.mining_data_tb as md\n",
    "import src.utils.visualization_tb as vi\n",
    "import src.utils.folder_tb as fo\n",
    "import src.utils.models_tb as mo\n"
   ],
   "outputs": [],
   "metadata": {}
  },
  {
   "cell_type": "code",
   "execution_count": 3,
   "source": [
    "type([1])"
   ],
   "outputs": [
    {
     "output_type": "execute_result",
     "data": {
      "text/plain": [
       "list"
      ]
     },
     "metadata": {},
     "execution_count": 3
    }
   ],
   "metadata": {}
  },
  {
   "cell_type": "code",
   "execution_count": null,
   "source": [],
   "outputs": [],
   "metadata": {}
  }
 ],
 "metadata": {
  "orig_nbformat": 4,
  "language_info": {
   "name": "python",
   "version": "3.7.4",
   "mimetype": "text/x-python",
   "codemirror_mode": {
    "name": "ipython",
    "version": 3
   },
   "pygments_lexer": "ipython3",
   "nbconvert_exporter": "python",
   "file_extension": ".py"
  },
  "kernelspec": {
   "name": "python3",
   "display_name": "Python 3.7.4 64-bit"
  },
  "interpreter": {
   "hash": "aee8b7b246df8f9039afb4144a1f6fd8d2ca17a180786b69acc140d282b71a49"
  }
 },
 "nbformat": 4,
 "nbformat_minor": 2
}