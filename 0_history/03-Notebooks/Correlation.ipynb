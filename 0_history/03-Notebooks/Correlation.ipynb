{
 "cells": [
  {
   "cell_type": "code",
   "execution_count": 1,
   "id": "92afd192-f50d-40ed-9f31-1ddce5a89e3b",
   "metadata": {},
   "outputs": [],
   "source": [
    "import pandas as pd\n",
    "from datetime import *\n",
    "import numpy as np"
   ]
  },
  {
   "cell_type": "code",
   "execution_count": 2,
   "id": "1eafe42f-9d69-4d73-bce0-7638d04d1e4a",
   "metadata": {},
   "outputs": [],
   "source": [
    "def read_data(path: str):\n",
    "    try:\n",
    "        return pd.read_parquet(path)\n",
    "    except:\n",
    "        initial_path = r'/app/moneyprintersgobrr/'\n",
    "        path_2 = path[3:]\n",
    "        return pd.read_parquet(initial_path + path_2)"
   ]
  },
  {
   "cell_type": "code",
   "execution_count": 3,
   "id": "4467bbb2-9866-478a-b9d7-8b28d347c43b",
   "metadata": {},
   "outputs": [],
   "source": [
    "cpi = read_data(r'../02-Data/CPI/cpi.parquet')\n",
    "m2 = read_data(r'../02-Data/M2/m2.parquet')"
   ]
  },
  {
   "cell_type": "code",
   "execution_count": 4,
   "id": "dbab8f9f-d8d5-4c4a-8aff-e3cddbc6cfd7",
   "metadata": {},
   "outputs": [
    {
     "data": {
      "text/html": [
       "<div>\n",
       "<style scoped>\n",
       "    .dataframe tbody tr th:only-of-type {\n",
       "        vertical-align: middle;\n",
       "    }\n",
       "\n",
       "    .dataframe tbody tr th {\n",
       "        vertical-align: top;\n",
       "    }\n",
       "\n",
       "    .dataframe thead th {\n",
       "        text-align: right;\n",
       "    }\n",
       "</style>\n",
       "<table border=\"1\" class=\"dataframe\">\n",
       "  <thead>\n",
       "    <tr style=\"text-align: right;\">\n",
       "      <th></th>\n",
       "      <th>Value</th>\n",
       "    </tr>\n",
       "  </thead>\n",
       "  <tbody>\n",
       "    <tr>\n",
       "      <th>1959-01-01</th>\n",
       "      <td>29.000</td>\n",
       "    </tr>\n",
       "    <tr>\n",
       "      <th>1959-02-01</th>\n",
       "      <td>28.900</td>\n",
       "    </tr>\n",
       "    <tr>\n",
       "      <th>1959-03-01</th>\n",
       "      <td>28.900</td>\n",
       "    </tr>\n",
       "    <tr>\n",
       "      <th>1959-04-01</th>\n",
       "      <td>29.000</td>\n",
       "    </tr>\n",
       "    <tr>\n",
       "      <th>1959-05-01</th>\n",
       "      <td>29.000</td>\n",
       "    </tr>\n",
       "    <tr>\n",
       "      <th>...</th>\n",
       "      <td>...</td>\n",
       "    </tr>\n",
       "    <tr>\n",
       "      <th>2021-02-01</th>\n",
       "      <td>263.014</td>\n",
       "    </tr>\n",
       "    <tr>\n",
       "      <th>2021-03-01</th>\n",
       "      <td>264.877</td>\n",
       "    </tr>\n",
       "    <tr>\n",
       "      <th>2021-04-01</th>\n",
       "      <td>267.054</td>\n",
       "    </tr>\n",
       "    <tr>\n",
       "      <th>2021-05-01</th>\n",
       "      <td>269.195</td>\n",
       "    </tr>\n",
       "    <tr>\n",
       "      <th>2021-06-01</th>\n",
       "      <td>271.696</td>\n",
       "    </tr>\n",
       "  </tbody>\n",
       "</table>\n",
       "<p>750 rows × 1 columns</p>\n",
       "</div>"
      ],
      "text/plain": [
       "              Value\n",
       "1959-01-01   29.000\n",
       "1959-02-01   28.900\n",
       "1959-03-01   28.900\n",
       "1959-04-01   29.000\n",
       "1959-05-01   29.000\n",
       "...             ...\n",
       "2021-02-01  263.014\n",
       "2021-03-01  264.877\n",
       "2021-04-01  267.054\n",
       "2021-05-01  269.195\n",
       "2021-06-01  271.696\n",
       "\n",
       "[750 rows x 1 columns]"
      ]
     },
     "execution_count": 4,
     "metadata": {},
     "output_type": "execute_result"
    }
   ],
   "source": [
    "cpi"
   ]
  },
  {
   "cell_type": "code",
   "execution_count": 24,
   "id": "0dd1dc97-fa23-4366-9fb4-d14720a45ed2",
   "metadata": {},
   "outputs": [],
   "source": [
    "def filter_between_dates(df, from_date, to_date, date_format='%Y-%m-%d'):\n",
    "\n",
    "    mask = (df.index >= datetime.strptime(from_date, date_format)) & \\\n",
    "               (df.index <= datetime.strptime(to_date, date_format))\n",
    "\n",
    "    filtered_df = df.loc[mask]\n",
    "\n",
    "    return filtered_df"
   ]
  },
  {
   "cell_type": "code",
   "execution_count": 33,
   "id": "beb72e0b-bb4d-4cb0-9017-5508e46dbe37",
   "metadata": {},
   "outputs": [],
   "source": [
    "def two_variables_correlation(df1, df2, start_date, end_date):\n",
    "    start_date_str = str(start_date)\n",
    "    end_date_str = str(end_date)\n",
    "    correlation_list = []\n",
    "    for value in range(1, 25):\n",
    "        \n",
    "        df1_filter = filter_between_dates(df1, start_date_str, end_date_str)\n",
    "        df2_filter = filter_between_dates(df2, start_date_str, end_date_str)\n",
    "        \n",
    "        df1_filter_pct_change = df1_filter.pct_change(12).dropna()\n",
    "        df2_filter_pct_change = df2_filter.pct_change(value).dropna()\n",
    "        \n",
    "        df = pd.concat([df1_filter_pct_change, df1_filter_pct_change], axis=1).dropna()\n",
    "        \n",
    "        df_corr = df.corr()\n",
    "        \n",
    "        correlation_value = df_corr.iloc[1, 0]\n",
    "        \n",
    "        correlation_list.append(correlation_value)\n",
    "        \n",
    "    return df_corr"
   ]
  },
  {
   "cell_type": "code",
   "execution_count": 34,
   "id": "b590b2c8-0010-45be-8127-b643a1506388",
   "metadata": {},
   "outputs": [
    {
     "data": {
      "text/html": [
       "<div>\n",
       "<style scoped>\n",
       "    .dataframe tbody tr th:only-of-type {\n",
       "        vertical-align: middle;\n",
       "    }\n",
       "\n",
       "    .dataframe tbody tr th {\n",
       "        vertical-align: top;\n",
       "    }\n",
       "\n",
       "    .dataframe thead th {\n",
       "        text-align: right;\n",
       "    }\n",
       "</style>\n",
       "<table border=\"1\" class=\"dataframe\">\n",
       "  <thead>\n",
       "    <tr style=\"text-align: right;\">\n",
       "      <th></th>\n",
       "      <th>Value</th>\n",
       "      <th>Value</th>\n",
       "    </tr>\n",
       "  </thead>\n",
       "  <tbody>\n",
       "    <tr>\n",
       "      <th>Value</th>\n",
       "      <td>1.0</td>\n",
       "      <td>1.0</td>\n",
       "    </tr>\n",
       "    <tr>\n",
       "      <th>Value</th>\n",
       "      <td>1.0</td>\n",
       "      <td>1.0</td>\n",
       "    </tr>\n",
       "  </tbody>\n",
       "</table>\n",
       "</div>"
      ],
      "text/plain": [
       "       Value  Value\n",
       "Value    1.0    1.0\n",
       "Value    1.0    1.0"
      ]
     },
     "execution_count": 34,
     "metadata": {},
     "output_type": "execute_result"
    }
   ],
   "source": [
    "two_variables_correlation(cpi, m2, '1940-01-01', '2030-01-01')"
   ]
  },
  {
   "cell_type": "code",
   "execution_count": null,
   "id": "b2c6c9ea-1d79-4390-b04c-7c997e8d76c9",
   "metadata": {},
   "outputs": [],
   "source": []
  }
 ],
 "metadata": {
  "kernelspec": {
   "display_name": "Python 3",
   "language": "python",
   "name": "python3"
  },
  "language_info": {
   "codemirror_mode": {
    "name": "ipython",
    "version": 3
   },
   "file_extension": ".py",
   "mimetype": "text/x-python",
   "name": "python",
   "nbconvert_exporter": "python",
   "pygments_lexer": "ipython3",
   "version": "3.8.10"
  }
 },
 "nbformat": 4,
 "nbformat_minor": 5
}
