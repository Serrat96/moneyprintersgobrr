{
 "cells": [
  {
   "cell_type": "code",
   "execution_count": 17,
   "id": "5d7c21bd-bacd-4298-86dc-d440021ee2db",
   "metadata": {},
   "outputs": [],
   "source": [
    "import pandas as pd\n",
    "from fredapi import Fred\n",
    "import plotly.express as px\n",
    "from datetime import datetime, date"
   ]
  },
  {
   "cell_type": "code",
   "execution_count": 8,
   "id": "73431490-cabe-47d8-b5b4-2524459353f4",
   "metadata": {},
   "outputs": [],
   "source": [
    "def get_fred_data(api_key: str, series:str):\n",
    "\n",
    "    fred = Fred(api_key=api_key)\n",
    "    series = fred.get_series(series)\n",
    "    series = pd.DataFrame(series, columns=['Value'])\n",
    "    return series"
   ]
  },
  {
   "cell_type": "code",
   "execution_count": 9,
   "id": "5442728c-c694-4dde-8501-80ce081ce7e6",
   "metadata": {},
   "outputs": [],
   "source": [
    "#Con ajuste estacional, en frecuencia mensual\n",
    "pce_adjusted = get_fred_data('a7eca89fdf2905baea21d67b942c9ef7', 'PCEPI')"
   ]
  },
  {
   "cell_type": "code",
   "execution_count": 10,
   "id": "b85b7d9b-dd75-4071-aa2f-6ef59764d1a8",
   "metadata": {},
   "outputs": [],
   "source": [
    "pce_adjusted.to_parquet('pce_adjusted.parquet')"
   ]
  },
  {
   "cell_type": "code",
   "execution_count": 11,
   "id": "58393dc5-ad2c-47f6-9d53-ebac7244b478",
   "metadata": {},
   "outputs": [
    {
     "data": {
      "text/html": [
       "<div>\n",
       "<style scoped>\n",
       "    .dataframe tbody tr th:only-of-type {\n",
       "        vertical-align: middle;\n",
       "    }\n",
       "\n",
       "    .dataframe tbody tr th {\n",
       "        vertical-align: top;\n",
       "    }\n",
       "\n",
       "    .dataframe thead th {\n",
       "        text-align: right;\n",
       "    }\n",
       "</style>\n",
       "<table border=\"1\" class=\"dataframe\">\n",
       "  <thead>\n",
       "    <tr style=\"text-align: right;\">\n",
       "      <th></th>\n",
       "      <th>Value</th>\n",
       "    </tr>\n",
       "  </thead>\n",
       "  <tbody>\n",
       "    <tr>\n",
       "      <th>1959-01-01</th>\n",
       "      <td>16.042</td>\n",
       "    </tr>\n",
       "    <tr>\n",
       "      <th>1959-02-01</th>\n",
       "      <td>16.057</td>\n",
       "    </tr>\n",
       "    <tr>\n",
       "      <th>1959-03-01</th>\n",
       "      <td>16.068</td>\n",
       "    </tr>\n",
       "    <tr>\n",
       "      <th>1959-04-01</th>\n",
       "      <td>16.100</td>\n",
       "    </tr>\n",
       "    <tr>\n",
       "      <th>1959-05-01</th>\n",
       "      <td>16.109</td>\n",
       "    </tr>\n",
       "    <tr>\n",
       "      <th>...</th>\n",
       "      <td>...</td>\n",
       "    </tr>\n",
       "    <tr>\n",
       "      <th>2021-02-01</th>\n",
       "      <td>112.878</td>\n",
       "    </tr>\n",
       "    <tr>\n",
       "      <th>2021-03-01</th>\n",
       "      <td>113.518</td>\n",
       "    </tr>\n",
       "    <tr>\n",
       "      <th>2021-04-01</th>\n",
       "      <td>114.180</td>\n",
       "    </tr>\n",
       "    <tr>\n",
       "      <th>2021-05-01</th>\n",
       "      <td>114.753</td>\n",
       "    </tr>\n",
       "    <tr>\n",
       "      <th>2021-06-01</th>\n",
       "      <td>115.342</td>\n",
       "    </tr>\n",
       "  </tbody>\n",
       "</table>\n",
       "<p>750 rows × 1 columns</p>\n",
       "</div>"
      ],
      "text/plain": [
       "              Value\n",
       "1959-01-01   16.042\n",
       "1959-02-01   16.057\n",
       "1959-03-01   16.068\n",
       "1959-04-01   16.100\n",
       "1959-05-01   16.109\n",
       "...             ...\n",
       "2021-02-01  112.878\n",
       "2021-03-01  113.518\n",
       "2021-04-01  114.180\n",
       "2021-05-01  114.753\n",
       "2021-06-01  115.342\n",
       "\n",
       "[750 rows x 1 columns]"
      ]
     },
     "execution_count": 11,
     "metadata": {},
     "output_type": "execute_result"
    }
   ],
   "source": [
    "pce_adjusted"
   ]
  }
 ],
 "metadata": {
  "kernelspec": {
   "display_name": "Python 3",
   "language": "python",
   "name": "python3"
  },
  "language_info": {
   "codemirror_mode": {
    "name": "ipython",
    "version": 3
   },
   "file_extension": ".py",
   "mimetype": "text/x-python",
   "name": "python",
   "nbconvert_exporter": "python",
   "pygments_lexer": "ipython3",
   "version": "3.8.10"
  }
 },
 "nbformat": 4,
 "nbformat_minor": 5
}
